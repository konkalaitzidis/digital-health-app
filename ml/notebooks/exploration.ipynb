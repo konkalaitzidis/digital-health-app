{
 "cells": [
  {
   "cell_type": "markdown",
   "id": "3f870cd4",
   "metadata": {},
   "source": [
    "### Imports"
   ]
  },
  {
   "cell_type": "code",
   "execution_count": null,
   "id": "558d7834",
   "metadata": {},
   "outputs": [],
   "source": [
    "# Exploration Notebook for ADAMMA Project\n",
    "# Konstantinos Kalaitzidis\n",
    "\n",
    "import pandas as pd\n",
    "import numpy as np\n",
    "\n",
    "# Inline plots\n",
    "%matplotlib inline\n",
    "\n",
    "import matplotlib.pyplot as plt\n",
    "from pathlib import Path"
   ]
  },
  {
   "cell_type": "markdown",
   "id": "3214e3ec",
   "metadata": {},
   "source": [
    "### Load data"
   ]
  },
  {
   "cell_type": "code",
   "execution_count": null,
   "id": "a40f7dc2",
   "metadata": {},
   "outputs": [],
   "source": [
    "from pathlib import Path\n",
    "\n",
    "# Load the raw data\n",
    "RAW_PATH = Path(\"../data/raw/WISDM_clean.txt\")\n",
    "assert RAW_PATH.exists(), f\"File not found: {RAW_PATH}\""
   ]
  },
  {
   "cell_type": "markdown",
   "id": "4ea09bf7",
   "metadata": {},
   "source": [
    "### Quick sanity check"
   ]
  },
  {
   "cell_type": "code",
   "execution_count": null,
   "id": "3e87cd61",
   "metadata": {},
   "outputs": [],
   "source": [
    "# Read the data into a DataFrame\n",
    "df = pd.read_csv(RAW_PATH)\n",
    "df.head()"
   ]
  },
  {
   "cell_type": "code",
   "execution_count": null,
   "id": "5acf6efe",
   "metadata": {},
   "outputs": [],
   "source": [
    "# create header for the dataframe\n",
    "df.columns = ['user', 'activity', 'timestamp', 'x', 'y', 'z']\n",
    "df.head()"
   ]
  },
  {
   "cell_type": "code",
   "execution_count": null,
   "id": "fe981c52",
   "metadata": {},
   "outputs": [],
   "source": [
    "# Initial exploration\n",
    "df.info()\n",
    "df.describe(include=\"all\")\n",
    "df['activity'].value_counts()"
   ]
  },
  {
   "cell_type": "code",
   "execution_count": null,
   "id": "bc7f896c",
   "metadata": {},
   "outputs": [],
   "source": [
    "# clean column names\n",
    "df.columns = [c.strip().lower() for c in df.columns]\n",
    "\n",
    "# drop missing values if any\n",
    "df = df.dropna()\n",
    "print(df.shape)\n",
    "df.head()"
   ]
  },
  {
   "cell_type": "markdown",
   "id": "e7bd1884",
   "metadata": {},
   "source": [
    "### Mapping activities to MET classes"
   ]
  },
  {
   "cell_type": "code",
   "execution_count": null,
   "id": "1172e6b2",
   "metadata": {},
   "outputs": [],
   "source": [
    "# find unique activity names in the dataset\n",
    "df['activity'].unique()"
   ]
  },
  {
   "cell_type": "code",
   "execution_count": null,
   "id": "8a71a801",
   "metadata": {},
   "outputs": [],
   "source": [
    "### Mapping Activities to MET Classes\n",
    "# MET (Metabolic Equivalent of Task) values for activities\n",
    "# Sedentary: Sitting, Standing\n",
    "# Light: Walking\n",
    "# Moderate: Upstairs, Downstairs\n",
    "# Vigorous: Jogging\n",
    "\n",
    "MET_MAP = {\n",
    "    'Sitting': 'Sedentary',\n",
    "    'Standing': 'Sedentary',\n",
    "    'Walking': 'Light',\n",
    "    'Upstairs': 'Moderate',\n",
    "    'Downstairs': 'Moderate',\n",
    "    'Jogging': 'Vigorous'\n",
    "}\n",
    "\n",
    "df['met_class'] = df['activity'].map(MET_MAP)\n",
    "df['met_class'].value_counts(dropna=False)\n",
    "df.head()"
   ]
  },
  {
   "cell_type": "markdown",
   "id": "7a535a63",
   "metadata": {},
   "source": [
    "### Visualize and save traces"
   ]
  },
  {
   "cell_type": "code",
   "execution_count": null,
   "id": "2f22a396",
   "metadata": {},
   "outputs": [],
   "source": [
    "# Visualize some accelerometer data for a specific activity\n",
    "plt.figure(figsize=(12,4))\n",
    "sample = df[df['activity'] == 'Walking'].head(500)\n",
    "for ax_name in ['x','y','z']:\n",
    "    if ax_name in df.columns:\n",
    "        plt.plot(sample[ax_name], label=ax_name)\n",
    "plt.title(\"Accelerometer trace — Walking\")\n",
    "plt.legend()\n",
    "plt.show()"
   ]
  },
  {
   "cell_type": "code",
   "execution_count": null,
   "id": "5736320e",
   "metadata": {},
   "outputs": [],
   "source": [
    "# ---- Config ----\n",
    "ACTIVITY = \"Walking\" # Change to desired activity\n",
    "N_SAMPLES = 500 # Number of samples to plot\n",
    "ASSUMED_HZ = 20  # WISDM ≈ 20 Hz\n",
    "SAVE_FIG = True\n",
    "FIG_PATH = Path(\"../../docs/figures/wisdm_trace_walking.png\")\n",
    "\n",
    "# ---- Pick axis columns robustly ----\n",
    "candidates_full = [\"accel_x\", \"accel_y\", \"accel_z\"]\n",
    "candidates_short = [\"x\", \"y\", \"z\"]\n",
    "if all(c in df.columns for c in candidates_full):\n",
    "    AX_COLS = candidates_full\n",
    "elif all(c in df.columns for c in candidates_short):\n",
    "    AX_COLS = candidates_short\n",
    "else:\n",
    "    raise ValueError(\"Could not find accelerometer columns. Expected accel_x/accel_y/accel_z or x/y/z.\")\n",
    "\n",
    "# ---- Slice a sample window for a given activity ----\n",
    "sample = df[df[\"activity\"] == ACTIVITY].head(N_SAMPLES).copy()\n",
    "if len(sample) < N_SAMPLES:\n",
    "    print(f\"Warning: only {len(sample)} samples available for {ACTIVITY}.\")\n",
    "\n",
    "# ---- Build a time axis (prefer timestamp if present; else assume fixed rate) ----\n",
    "if \"timestamp\" in df.columns:\n",
    "    # WISDM timestamps are typically in milliseconds; convert to seconds relative to start\n",
    "    t = (sample[\"timestamp\"] - sample[\"timestamp\"].iloc[0]).to_numpy()\n",
    "    # Heuristic: if values look large, treat as ms\n",
    "    if t.max() > 1000:\n",
    "        t = t / 1000.0\n",
    "else:\n",
    "    t = np.arange(len(sample)) / ASSUMED_HZ\n",
    "\n",
    "# ---- Ensure all axis columns are numeric ----\n",
    "for c in AX_COLS:\n",
    "    if sample[c].dtype == 'O':\n",
    "        sample[c] = pd.to_numeric(sample[c].str.replace(';', ''), errors='coerce')\n",
    "\n",
    "# ---- Compute magnitude for extra context ----\n",
    "mag = np.sqrt(np.sum([sample[c].to_numpy()**2 for c in AX_COLS], axis=0))\n",
    "\n",
    "# ---- Plot ----\n",
    "plt.figure(figsize=(13, 4.5))\n",
    "for col in AX_COLS:\n",
    "    plt.plot(t, sample[col], linewidth=1.5, label=col)\n",
    "\n",
    "# Magnitude as dashed overlay\n",
    "plt.plot(t, mag, linestyle=\"--\", linewidth=1.5, label=\"magnitude\")\n",
    "\n",
    "# Titles & labels\n",
    "plt.title(f\"Smartphone Accelerometer — {ACTIVITY} ({len(sample)} samples)\", fontsize=14, weight=\"bold\")\n",
    "plt.xlabel(\"Time (s)\", fontsize=12)\n",
    "plt.ylabel(\"Acceleration (arbitrary units)\", fontsize=12)\n",
    "\n",
    "\n",
    "# Legend & grid\n",
    "leg = plt.legend(title=\"Signal\", ncols=4 if len(AX_COLS) == 3 else 3, frameon=True, framealpha=0.9)\n",
    "plt.grid(True, which=\"major\", linestyle=\"--\", alpha=0.35)\n",
    "plt.grid(True, which=\"minor\", linestyle=\":\", alpha=0.2)\n",
    "plt.minorticks_on()\n",
    "\n",
    "# Info box\n",
    "txt = f\"Sampling: {'timestamp-derived' if 'timestamp' in df.columns else f'~{ASSUMED_HZ} Hz (assumed)'}\"\n",
    "plt.gca().text(0.99, 0.02, txt, transform=plt.gca().transAxes,\n",
    "               ha=\"right\", va=\"bottom\", fontsize=9, color=\"dimgray\")\n",
    "\n",
    "plt.tight_layout()\n",
    "if SAVE_FIG:\n",
    "    FIG_PATH.parent.mkdir(parents=True, exist_ok=True)\n",
    "    plt.savefig(FIG_PATH, dpi=150)\n",
    "plt.show()\n"
   ]
  }
 ],
 "metadata": {
  "kernelspec": {
   "display_name": "venv",
   "language": "python",
   "name": "python3"
  },
  "language_info": {
   "codemirror_mode": {
    "name": "ipython",
    "version": 3
   },
   "file_extension": ".py",
   "mimetype": "text/x-python",
   "name": "python",
   "nbconvert_exporter": "python",
   "pygments_lexer": "ipython3",
   "version": "3.11.8"
  }
 },
 "nbformat": 4,
 "nbformat_minor": 5
}
